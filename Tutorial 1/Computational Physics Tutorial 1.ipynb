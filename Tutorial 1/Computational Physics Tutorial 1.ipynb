{
 "cells": [
  {
   "cell_type": "markdown",
   "id": "15124981",
   "metadata": {},
   "source": [
    "# Computational Physics Tutorial 1"
   ]
  },
  {
   "cell_type": "markdown",
   "id": "6d06171f",
   "metadata": {},
   "source": [
    "## SNGNKO003"
   ]
  },
  {
   "cell_type": "markdown",
   "id": "4642bcdf",
   "metadata": {},
   "source": [
    "## 1. Matrix Multiplication"
   ]
  },
  {
   "cell_type": "markdown",
   "id": "dd6ba608",
   "metadata": {},
   "source": [
    "We first import all the python libraries we are going use."
   ]
  },
  {
   "cell_type": "code",
   "execution_count": 99,
   "id": "8168b268",
   "metadata": {},
   "outputs": [],
   "source": [
    "import numpy as np\n",
    "import pandas as pd\n",
    "import matplotlib.pyplot as plt\n",
    "from time import perf_counter"
   ]
  },
  {
   "cell_type": "markdown",
   "id": "251c2eba",
   "metadata": {},
   "source": [
    "We define $\\textit{n}$ as the number of rows that the Matrix $\\textit{M}$ is going to have. Since $n = 5,10,20,100,1000$. We make an empty array with 5 sub-arrays such that $\\textit{M}$ appends a Matrix for each value of $\\textit{n}$."
   ]
  },
  {
   "cell_type": "code",
   "execution_count": 100,
   "id": "8c049615",
   "metadata": {},
   "outputs": [
    {
     "name": "stdout",
     "output_type": "stream",
     "text": [
      "[[ 7.1 -1.2 -6.1 -7.6 -5.7]\n",
      " [ 4.2 -4.1 -9.   9.5 -8.6]\n",
      " [ 1.3 -7.   8.1  6.6  8.5]\n",
      " [-1.6 -9.9  5.2  3.7  5.6]\n",
      " [-4.5  7.2  2.3  0.8  2.7]]\n"
     ]
    }
   ],
   "source": [
    "n = [5, 10, 20, 100, 1000]               ### The number of rows of the Matrix and the dimension of the vector\n",
    "n1 = n\n",
    "\n",
    "\n",
    "###########################################################################\n",
    "###                     Generating the matrix M                         ###\n",
    "###########################################################################\n",
    "M1 = [[],[],[],[],[]]\n",
    "x1 = [[],[],[],[],[]]\n",
    "\n",
    "for t in range(len(n)):\n",
    "    for i in range(n[t]):\n",
    "        M1[t].append([])\n",
    "        x1[t].append(i+1)\n",
    "\n",
    "        for j in range(n1[t]):                  \n",
    "            M1[t][i].append(((37.1*(i+1) + 91.7*j**2) % 20.0) - 10.0)\n",
    "\n",
    "print(np.array(M1[0]))    ## Printing the Matrix corresponding to n=5"
   ]
  },
  {
   "cell_type": "markdown",
   "id": "2862d1c3",
   "metadata": {},
   "source": [
    "We manually define a function that multiplies Two Matrices $\\textit{A}$, $\\textit{B}$ that takes into account the dimensions of the arguments such that the number columns of the $\\textit{A}$ must match the number of rows of the $\\textit{B}$. The result will still be an $n\\times n$ matrix."
   ]
  },
  {
   "cell_type": "code",
   "execution_count": 101,
   "id": "bd2c5914",
   "metadata": {},
   "outputs": [],
   "source": [
    "###########################################################################\n",
    "###          Defining a function that multiplies Two Matrices           ###\n",
    "###########################################################################\n",
    "\n",
    "def matrix_multiplication(A, B):\n",
    "    # Get the number of rows and columns of A and B\n",
    "    rows_A = len(A)\n",
    "    cols_A = len(A[0])\n",
    "    rows_B = len(B)\n",
    "    cols_B = len(B[0])\n",
    "\n",
    "    # Check if the matrices can be multiplied\n",
    "    if cols_A != rows_B:\n",
    "        print(\"Matrices cannot be multiplied\")\n",
    "        return None\n",
    "\n",
    "    # Create an empty result matrix with the correct dimensions\n",
    "    C = [[0 for row in range(cols_B)] for col in range(rows_A)]\n",
    "\n",
    "    # Perform matrix multiplication\n",
    "    for i in range(rows_A):\n",
    "        for j in range(cols_B):\n",
    "            for k in range(cols_A):\n",
    "                C[i][j] += A[i][k] * B[k][j]\n",
    "\n",
    "    return C"
   ]
  },
  {
   "attachments": {},
   "cell_type": "markdown",
   "id": "42f38058",
   "metadata": {},
   "source": [
    "We manually define a function that multiplies Two Vectors (row_vector), (col_vector). Basically multiplies entries with the same index and sum over all of them. The result will be a scalar or a number."
   ]
  },
  {
   "cell_type": "code",
   "execution_count": 102,
   "id": "ffd0a4ee",
   "metadata": {},
   "outputs": [],
   "source": [
    "###########################################################################\n",
    "###           Defining a function that multiplies Two Vectors           ###\n",
    "###########################################################################\n",
    "\n",
    "def dot_product(row_vector, col_vector):\n",
    "    \"\"\"\n",
    "    Multiplies a row vector and a column vector.\n",
    "    \n",
    "    Args:\n",
    "    row_vector (list): A list representing the row vector.\n",
    "    col_vector (list): A list representing the column vector.\n",
    "    \n",
    "    Returns:\n",
    "    result (float): The product of the two vectors.\n",
    "    \"\"\"\n",
    "    if len(row_vector) != len(col_vector):\n",
    "        raise ValueError(\"Vectors must have the same length.\")\n",
    "    \n",
    "    result = 0\n",
    "    for i in range(len(row_vector)):\n",
    "        result += row_vector[i] * col_vector[i]\n",
    "    \n",
    "    return result"
   ]
  },
  {
   "cell_type": "markdown",
   "id": "0990af58",
   "metadata": {},
   "source": [
    "We define a function that multiplies a matrix and a vector. The result will be a vector with $n$ components."
   ]
  },
  {
   "cell_type": "code",
   "execution_count": 103,
   "id": "668518d1",
   "metadata": {},
   "outputs": [],
   "source": [
    "###########################################################################\n",
    "###      Defining a fuction that multiplies a Matrix and a Vector       ###\n",
    "###########################################################################\n",
    "\n",
    "def matrix_vector_mult(M,x):\n",
    "    y = np.zeros(M.shape[0])        # Making an array of zeros with dimensions to match the rows of the matrix\n",
    "    for i in range(M.shape[0]):\n",
    "        for j in range(M.shape[1]):\n",
    "            y[i] += M[i,j] * x[j]\n",
    "\n",
    "    return y"
   ]
  },
  {
   "attachments": {},
   "cell_type": "markdown",
   "id": "bb3c0fc0",
   "metadata": {},
   "source": [
    "We then use our functions defined prior to compute $\\textbf{x}^T \\textbf{x}$ and $\\textbf{x}^T \\textbf{M} \\textbf{x}$. To compute the latter, we first apply the function that multiplies a matrix and a vector on $\\textbf{M}$ and $\\textbf{x}$ and then use the result as an argument, along with $\\textbf{x}^T$ to the function that multiplies two vectors. To compute the former, we simply apply the function that multiplies two vectors using  $\\textbf{x}^T$ and $\\textbf{x}$ as arguments."
   ]
  },
  {
   "cell_type": "code",
   "execution_count": 104,
   "id": "db890292",
   "metadata": {},
   "outputs": [],
   "source": [
    "###########################################################################\n",
    "# xT dot x and xT dot Mx for the defined functions for n = 5,10,20,100,1000\n",
    "###########################################################################\n",
    "\n",
    "xTx1 = []                \n",
    "Mx1 = []\n",
    "xMx1 = []\n",
    "\n",
    "for t in range(len(n)):\n",
    "    xTx1.append(dot_product(np.transpose(np.array(x1[t])), np.array(x1[t])))\n",
    "    Mx1.append(matrix_vector_mult(np.array(M1[t]), np.array(x1[t])))\n",
    "    xMx1.append(dot_product(np.transpose(np.array(x1[t])), Mx1[t]))"
   ]
  },
  {
   "cell_type": "markdown",
   "id": "c9a639d4",
   "metadata": {},
   "source": [
    "We present our results for $\\textbf{x}^T \\textbf{x}$ and $\\textbf{x}^T \\textbf{M} \\textbf{x}$ for each $n$ in a Table using Pandas."
   ]
  },
  {
   "cell_type": "code",
   "execution_count": 105,
   "id": "1c8b2337",
   "metadata": {},
   "outputs": [
    {
     "name": "stdout",
     "output_type": "stream",
     "text": [
      "      n   xT dot x     xt dot Mx\n",
      "0     5         55  4.125000e+02\n",
      "1    10        385 -6.325000e+02\n",
      "2    20       2870 -8.560000e+03\n",
      "3   100     338350 -2.208500e+06\n",
      "4  1000  333833500 -1.200694e+10\n"
     ]
    }
   ],
   "source": [
    "###########################################################################\n",
    "# Tabulated results for xT dot x and xT dot Mx for the defined functions\n",
    "###########################################################################\n",
    "\n",
    "## Here we define a dictionary to store the data in a tabular form\n",
    "data = {\n",
    "    'n': n,\n",
    "    'xT dot x': xTx1,\n",
    "    'xt dot Mx': xMx1\n",
    "}\n",
    "\n",
    "df = pd.DataFrame(data)\n",
    "print(df)"
   ]
  },
  {
   "attachments": {},
   "cell_type": "markdown",
   "id": "d144f69b",
   "metadata": {},
   "source": [
    "We generate the matrix again for the for the second but a larger sample of n so that we generate plots that look continuous."
   ]
  },
  {
   "cell_type": "code",
   "execution_count": 106,
   "id": "902a5a5d",
   "metadata": {},
   "outputs": [],
   "source": [
    "n_ = np.arange(20, 201, 20)\n",
    "n1_ = n_\n",
    "\n",
    "\n",
    "###########################################################################\n",
    "###                     Generating the matrix M                         ###\n",
    "###########################################################################\n",
    "if __name__ == '__main__':              ### This creates an empty List of Lists with a number of elements equal to the length of n\n",
    "                                        \n",
    "    n2 = len(n_)\n",
    "    M = [[] for x in range(n2)]\n",
    "    x = [[] for x in range(n2)]\n",
    "# M = [[],[],[],[],[]]\n",
    "# x = [[],[],[],[],[]]\n",
    "\n",
    "for t in range(len(n_)):\n",
    "    for i in range(n_[t]):\n",
    "        M[t].append([])\n",
    "        x[t].append(i+1)\n",
    "\n",
    "        for j in range(n1_[t]):                  \n",
    "            M[t][i].append(((37.1*(i+1) + 91.7*j**2) % 20.0) - 10.0)"
   ]
  },
  {
   "attachments": {},
   "cell_type": "markdown",
   "id": "5d450b45",
   "metadata": {},
   "source": [
    "To determine the execution times for both the custom defined functions and existing python packages, the perf_counter function was used to record time stamps for just before the operation started and time stamps for just when it ended for each n that was defined above. The execution times were then calculated as $EX_{time} = t_{stop} - t_{start}$ where $t_{start}$ and $t_{stop}$ are the start and stop times respectively. A dictionary of the execution times with their corresponding $\\textbf{n}$ for both the custom and built-in packages was constructed. This was then done for each operation i.e. $\\textbf{x}^T \\textbf{x}$, $\\textbf{Mx}$, $\\textbf{x}^T \\textbf{M} \\textbf{x}$ and $\\textbf{MM}$."
   ]
  },
  {
   "cell_type": "code",
   "execution_count": 107,
   "id": "45a5cb08",
   "metadata": {},
   "outputs": [
    {
     "name": "stdout",
     "output_type": "stream",
     "text": [
      "     n  Execution time for the Custom Function  \\\n",
      "0   20                                0.000049   \n",
      "1   40                                0.000031   \n",
      "2   60                                0.000041   \n",
      "3   80                                0.000050   \n",
      "4  100                                0.000062   \n",
      "5  120                                0.000350   \n",
      "6  140                                0.000089   \n",
      "7  160                                0.000098   \n",
      "8  180                                0.000107   \n",
      "9  200                                0.000118   \n",
      "\n",
      "   Execution time for the numpy package  \n",
      "0                              0.000031  \n",
      "1                              0.000017  \n",
      "2                              0.000019  \n",
      "3                              0.000022  \n",
      "4                              0.000025  \n",
      "5                              0.000049  \n",
      "6                              0.000034  \n",
      "7                              0.000036  \n",
      "8                              0.000039  \n",
      "9                              0.000042  \n"
     ]
    }
   ],
   "source": [
    "###########################################################################\n",
    "# Tabulated results for xT dot x and xT dot Mx for the defined functions \n",
    "# and the execution times\n",
    "###########################################################################\n",
    "\n",
    "t1_start = []\n",
    "t1_stop = []\n",
    "t1_start_pkg = []\n",
    "t1_stop_pkg = []\n",
    "for t in range(len(n_)):\n",
    "    t1_start.append(perf_counter())         # records the start time stamp\n",
    "    dot_product(np.transpose(np.array(x[t])), np.array(x[t]))\n",
    "    t1_stop.append(perf_counter())          # records the stop time stamp\n",
    "    \n",
    "    ### Execution time for the Python Package ###\n",
    "    t1_start_pkg.append(perf_counter())     # records the start time stamp\n",
    "    np.matmul(np.transpose(np.array(x[t])), np.array(x[t]))\n",
    "    t1_stop_pkg.append(perf_counter())      # records the stop time stamp\n",
    " \n",
    "ex_time1 = np.array(t1_stop)-np.array(t1_start)\n",
    "ex_time1_pkg = np.array(t1_stop_pkg)-np.array(t1_start_pkg)\n",
    "# print(\"Elapsed time during the dot product of two Vectors in seconds:\", ex_time1)\n",
    "# print(\"Elapsed time during the dot product of two Vectors using the Python Package in seconds:\", ex_time1_pkg)\n",
    "\n",
    "data_e1 = {                             # Creating the dictionary to quote the results\n",
    "    'n': n_,\n",
    "    'Execution time for the Custom Function': ex_time1,\n",
    "    'Execution time for the numpy package': ex_time1_pkg \n",
    "}\n",
    "df_e1 = pd.DataFrame(data_e1)\n",
    "print(df_e1)"
   ]
  },
  {
   "cell_type": "code",
   "execution_count": 108,
   "id": "a33c565a",
   "metadata": {},
   "outputs": [
    {
     "name": "stdout",
     "output_type": "stream",
     "text": [
      "     n  Execution time for the Custom Function  \\\n",
      "0   20                                0.001324   \n",
      "1   40                                0.001785   \n",
      "2   60                                0.004605   \n",
      "3   80                                0.008831   \n",
      "4  100                                0.013048   \n",
      "5  120                                0.032242   \n",
      "6  140                                0.032130   \n",
      "7  160                                0.050536   \n",
      "8  180                                0.037982   \n",
      "9  200                                0.039430   \n",
      "\n",
      "   Execution time for the numpy package  \n",
      "0                              0.000096  \n",
      "1                              0.000196  \n",
      "2                              0.000378  \n",
      "3                              0.000584  \n",
      "4                              0.002567  \n",
      "5                              0.001523  \n",
      "6                              0.002260  \n",
      "7                              0.002112  \n",
      "8                              0.002616  \n",
      "9                              0.003251  \n"
     ]
    }
   ],
   "source": [
    "t2_start = []\n",
    "t2_stop = []\n",
    "t2_start_pkg = []\n",
    "t2_stop_pkg = []\n",
    "for t in range(len(n_)):\n",
    "    t2_start.append(perf_counter())\n",
    "    matrix_vector_mult(np.array(M[t]), np.array(x[t]))\n",
    "    t2_stop.append(perf_counter())\n",
    "    \n",
    "    ### Execution time for the Python Package ###\n",
    "    t2_start_pkg.append(perf_counter())\n",
    "    np.matmul(np.array(M[t]), np.array(x[t]))\n",
    "    t2_stop_pkg.append(perf_counter())\n",
    " \n",
    "ex_time2 = np.array(t2_stop)-np.array(t2_start)\n",
    "ex_time2_pkg = np.array(t2_stop_pkg)-np.array(t2_start_pkg)\n",
    "# print(\"Elapsed time during the mutliplication of a Matrix and a Vector in seconds:\", ex_time2)\n",
    "# print(\"Elapsed time during the mutliplication of a Matrix and a Vector using the Python Package in seconds:\", ex_time2_pkg)\n",
    "\n",
    "data_e2 = {\n",
    "    'n': n_,\n",
    "    'Execution time for the Custom Function': ex_time2,\n",
    "    'Execution time for the numpy package': ex_time2_pkg \n",
    "}\n",
    "df_e2 = pd.DataFrame(data_e2)\n",
    "print(df_e2)"
   ]
  },
  {
   "cell_type": "code",
   "execution_count": 109,
   "id": "06b089b4",
   "metadata": {},
   "outputs": [
    {
     "name": "stdout",
     "output_type": "stream",
     "text": [
      "     n  Execution time for the Custom Function  \\\n",
      "0   20                                0.001210   \n",
      "1   40                                0.018607   \n",
      "2   60                                0.003973   \n",
      "3   80                                0.012220   \n",
      "4  100                                0.018414   \n",
      "5  120                                0.019549   \n",
      "6  140                                0.023483   \n",
      "7  160                                0.038003   \n",
      "8  180                                0.045499   \n",
      "9  200                                0.040869   \n",
      "\n",
      "   Execution time for the numpy package  \n",
      "0                              0.000118  \n",
      "1                              0.000405  \n",
      "2                              0.000394  \n",
      "3                              0.000636  \n",
      "4                              0.001667  \n",
      "5                              0.001606  \n",
      "6                              0.003652  \n",
      "7                              0.009650  \n",
      "8                              0.002673  \n",
      "9                              0.003452  \n"
     ]
    }
   ],
   "source": [
    "t3_start = []\n",
    "t3_stop = []\n",
    "t3_start_pkg = []\n",
    "t3_stop_pkg = []\n",
    "for t in range(len(n_)):\n",
    "    t3_start.append(perf_counter())\n",
    "    dot_product(np.transpose(np.array(x[t])), matrix_vector_mult(np.array(M[t]), np.array(x[t])))\n",
    "    t3_stop.append(perf_counter())\n",
    "    \n",
    "    ### Execution time for the Python Package ###\n",
    "    t3_start_pkg.append(perf_counter())\n",
    "    np.matmul(np.transpose(np.array(x[t])), np.matmul(np.array(M[t]), np.array(x[t])))\n",
    "    t3_stop_pkg.append(perf_counter())\n",
    " \n",
    " \n",
    "ex_time3 = np.array(t3_stop)-np.array(t3_start)\n",
    "ex_time3_pkg = np.array(t3_stop_pkg)-np.array(t3_start_pkg)\n",
    "# print(\"Elapsed time during the multiplication of two Vectors and a Matrix in seconds:\", ex_time3)\n",
    "# print(\"Elapsed time during the multiplication of two Vectors and a Matrix using the Python Package in seconds:\", ex_time3_pkg)\n",
    "\n",
    "data_e3 = {\n",
    "    'n': n_,\n",
    "    'Execution time for the Custom Function': ex_time3,\n",
    "    'Execution time for the numpy package': ex_time3_pkg \n",
    "}\n",
    "df_e3 = pd.DataFrame(data_e3)\n",
    "print(df_e3)"
   ]
  },
  {
   "cell_type": "code",
   "execution_count": 110,
   "id": "411b94d9",
   "metadata": {},
   "outputs": [
    {
     "name": "stdout",
     "output_type": "stream",
     "text": [
      "     n  Execution time for the Custom Function  \\\n",
      "0   20                                0.007462   \n",
      "1   40                                0.077440   \n",
      "2   60                                0.220476   \n",
      "3   80                                0.456443   \n",
      "4  100                                1.019375   \n",
      "5  120                                1.543023   \n",
      "6  140                                2.425179   \n",
      "7  160                                3.692740   \n",
      "8  180                                5.197408   \n",
      "9  200                                7.155726   \n",
      "\n",
      "   Execution time for the numpy package  \n",
      "0                              0.000131  \n",
      "1                              0.000353  \n",
      "2                              0.000903  \n",
      "3                              0.001099  \n",
      "4                              0.001658  \n",
      "5                              0.002383  \n",
      "6                              0.003397  \n",
      "7                              0.005675  \n",
      "8                              0.006361  \n",
      "9                              0.006909  \n"
     ]
    }
   ],
   "source": [
    "t4_start = []\n",
    "t4_stop = []\n",
    "t4_start_pkg = []\n",
    "t4_stop_pkg = []\n",
    "for t in range(len(n_)):\n",
    "    t4_start.append(perf_counter())\n",
    "    matrix_multiplication(np.array(M[t]), np.array(M[t]))\n",
    "    t4_stop.append(perf_counter())\n",
    "    \n",
    "    ## Execution time for the Python Package ###\n",
    "    t4_start_pkg.append(perf_counter())\n",
    "    np.matmul(np.array(M[t]), np.array(M[t]))\n",
    "    t4_stop_pkg.append(perf_counter())\n",
    " \n",
    "ex_time4 = np.array(t4_stop)-np.array(t4_start)\n",
    "ex_time4_pkg = np.array(t4_stop_pkg)-np.array(t4_start_pkg)\n",
    "# print(\"Elapsed time during the multiplication of two Matrices: in seconds:\", ex_time4)\n",
    "# print(\"Elapsed time during the multiplication of two Matrices using the Python Package in seconds:\", ex_time4_pkg)\n",
    "\n",
    "data_e4 = {\n",
    "    'n': n_,\n",
    "    'Execution time for the Custom Function': ex_time4,\n",
    "    'Execution time for the numpy package': ex_time4_pkg \n",
    "}\n",
    "df_e4 = pd.DataFrame(data_e4)\n",
    "print(df_e4)"
   ]
  },
  {
   "attachments": {},
   "cell_type": "markdown",
   "id": "d22d5c65",
   "metadata": {},
   "source": [
    "Tabulating the final results for the execution times as a function of n"
   ]
  },
  {
   "cell_type": "code",
   "execution_count": 111,
   "id": "a3f3dcb7",
   "metadata": {},
   "outputs": [
    {
     "name": "stdout",
     "output_type": "stream",
     "text": [
      "     n  Execution Times for Manual Operation of xT . x (s)  \\\n",
      "0   20                                           0.000049    \n",
      "1   40                                           0.000031    \n",
      "2   60                                           0.000041    \n",
      "3   80                                           0.000050    \n",
      "4  100                                           0.000062    \n",
      "5  120                                           0.000350    \n",
      "6  140                                           0.000089    \n",
      "7  160                                           0.000098    \n",
      "8  180                                           0.000107    \n",
      "9  200                                           0.000118    \n",
      "\n",
      "   Execution Times for Python Packages of xT . x (s)  \\\n",
      "0                                           0.000031   \n",
      "1                                           0.000017   \n",
      "2                                           0.000019   \n",
      "3                                           0.000022   \n",
      "4                                           0.000025   \n",
      "5                                           0.000049   \n",
      "6                                           0.000034   \n",
      "7                                           0.000036   \n",
      "8                                           0.000039   \n",
      "9                                           0.000042   \n",
      "\n",
      "   Execution Times for Manual Operation of M . x (s)  \\\n",
      "0                                           0.001324   \n",
      "1                                           0.001785   \n",
      "2                                           0.004605   \n",
      "3                                           0.008831   \n",
      "4                                           0.013048   \n",
      "5                                           0.032242   \n",
      "6                                           0.032130   \n",
      "7                                           0.050536   \n",
      "8                                           0.037982   \n",
      "9                                           0.039430   \n",
      "\n",
      "   Execution Times for Python Packages of M . x (s)  \\\n",
      "0                                          0.000096   \n",
      "1                                          0.000196   \n",
      "2                                          0.000378   \n",
      "3                                          0.000584   \n",
      "4                                          0.002567   \n",
      "5                                          0.001523   \n",
      "6                                          0.002260   \n",
      "7                                          0.002112   \n",
      "8                                          0.002616   \n",
      "9                                          0.003251   \n",
      "\n",
      "   Execution Times for Manual Operation of xT . Mx (s)  \\\n",
      "0                                           0.001210     \n",
      "1                                           0.018607     \n",
      "2                                           0.003973     \n",
      "3                                           0.012220     \n",
      "4                                           0.018414     \n",
      "5                                           0.019549     \n",
      "6                                           0.023483     \n",
      "7                                           0.038003     \n",
      "8                                           0.045499     \n",
      "9                                           0.040869     \n",
      "\n",
      "   Execution Times for Python Packages of xT . Mx (s)  \\\n",
      "0                                           0.000118    \n",
      "1                                           0.000405    \n",
      "2                                           0.000394    \n",
      "3                                           0.000636    \n",
      "4                                           0.001667    \n",
      "5                                           0.001606    \n",
      "6                                           0.003652    \n",
      "7                                           0.009650    \n",
      "8                                           0.002673    \n",
      "9                                           0.003452    \n",
      "\n",
      "   Execution Times for Manual Operation of M . M (s)  \\\n",
      "0                                           0.007462   \n",
      "1                                           0.077440   \n",
      "2                                           0.220476   \n",
      "3                                           0.456443   \n",
      "4                                           1.019375   \n",
      "5                                           1.543023   \n",
      "6                                           2.425179   \n",
      "7                                           3.692740   \n",
      "8                                           5.197408   \n",
      "9                                           7.155726   \n",
      "\n",
      "   Execution Times for Python Packages of M . M (s)  \n",
      "0                                          0.000131  \n",
      "1                                          0.000353  \n",
      "2                                          0.000903  \n",
      "3                                          0.001099  \n",
      "4                                          0.001658  \n",
      "5                                          0.002383  \n",
      "6                                          0.003397  \n",
      "7                                          0.005675  \n",
      "8                                          0.006361  \n",
      "9                                          0.006909  \n"
     ]
    }
   ],
   "source": [
    "###########################################################################\n",
    "###      Tabulating the executions times for both Implementations       ###\n",
    "###########################################################################\n",
    "\n",
    "data1 = {\n",
    "    'n': n_,\n",
    "    'Execution Times for Manual Operation of xT . x (s)': ex_time1,\n",
    "    'Execution Times for Python Packages of xT . x (s)': ex_time1_pkg,\n",
    "    'Execution Times for Manual Operation of M . x (s)': ex_time2,\n",
    "    'Execution Times for Python Packages of M . x (s)': ex_time2_pkg,\n",
    "    'Execution Times for Manual Operation of xT . Mx (s)': ex_time3,\n",
    "    'Execution Times for Python Packages of xT . Mx (s)': ex_time3_pkg,\n",
    "    'Execution Times for Manual Operation of M . M (s)': ex_time4,\n",
    "    'Execution Times for Python Packages of M . M (s)': ex_time4_pkg,\n",
    "}\n",
    "\n",
    "df1 = pd.DataFrame(data1)\n",
    "print(df1)"
   ]
  },
  {
   "cell_type": "code",
   "execution_count": 112,
   "id": "56714bd4",
   "metadata": {},
   "outputs": [
    {
     "data": {
      "image/png": "[encoded data removed]",
      "text/plain": [
       "<Figure size 640x480 with 1 Axes>"
      ]
     },
     "metadata": {},
     "output_type": "display_data"
    }
   ],
   "source": [
    "###########################################################################\n",
    "###           Plotting the execution times as a function of n           ###\n",
    "###########################################################################\n",
    "\n",
    "plt.scatter(n_, ex_time1, label = \"Custom Implementation\", marker = 'o')\n",
    "plt.scatter(n_, ex_time1_pkg, label = \"Package implementation\", marker = 'o')\n",
    "plt.legend(loc = 'best')\n",
    "plt.xlabel('Dimensions (n)')\n",
    "plt.ylabel('Execution Times (s)')\n",
    "plt.title(\" Execution Times as a Function of n for Vector Multiplication\")\n",
    "plt.show()"
   ]
  },
  {
   "attachments": {},
   "cell_type": "markdown",
   "id": "9c0054b5",
   "metadata": {},
   "source": [
    "In the above, we can clearly see that the built-in python package is faster than the my custom defined function. The expected asymptotic behaviour of the operation $\\textbf{x}^T \\textbf{x}$ should be $\\mathcal{O}(n)$, of which we can see since we kind of have a straight line."
   ]
  },
  {
   "cell_type": "code",
   "execution_count": 113,
   "id": "5f55d25a",
   "metadata": {},
   "outputs": [
    {
     "data": {
      "image/png": "[encoded data removed]",
      "text/plain": [
       "<Figure size 640x480 with 1 Axes>"
      ]
     },
     "metadata": {},
     "output_type": "display_data"
    }
   ],
   "source": [
    "plt.scatter(n_, ex_time2, label = \"Custom Implementation\", marker = 'o')\n",
    "plt.scatter(n_, ex_time2_pkg, label = \"Package implementation\", marker = 'o')\n",
    "plt.legend(loc = 'best')\n",
    "plt.xlabel('Dimensions (n)')\n",
    "plt.ylabel('Execution Times (s)')\n",
    "plt.title(\" Execution Times as a Function of n for Matrix-Vector Multiplication\")\n",
    "plt.show()"
   ]
  },
  {
   "attachments": {},
   "cell_type": "markdown",
   "id": "c637f656",
   "metadata": {},
   "source": [
    "In the above, we can clearly see that the built-in python package is faster than the my custom defined function. The expected asymptotic behaviour of the operation $\\textbf{Mx}$ should be $\\mathcal{O}(n^2)$, of which we can see since we kind of have a distribution that somewhat resembles a parabola for $n>0$."
   ]
  },
  {
   "cell_type": "code",
   "execution_count": 114,
   "id": "feecf31d",
   "metadata": {},
   "outputs": [
    {
     "data": {
      "image/png": "[encoded data removed]",
      "text/plain": [
       "<Figure size 640x480 with 1 Axes>"
      ]
     },
     "metadata": {},
     "output_type": "display_data"
    }
   ],
   "source": [
    "plt.scatter(n_, ex_time3, label = \"Custom Implementation\", marker = 'o')\n",
    "plt.scatter(n_, ex_time3_pkg, label = \"Package implementation\", marker = 'o')\n",
    "plt.legend(loc = 'best')\n",
    "plt.xlabel('Dimensions (n)')\n",
    "plt.ylabel('Execution Times (s)')\n",
    "plt.title(\" Execution Times as a Function of n for Vector-Matrix-Vector Multiplication\")\n",
    "plt.show()"
   ]
  },
  {
   "attachments": {},
   "cell_type": "markdown",
   "id": "29ed28f1",
   "metadata": {},
   "source": [
    "In the above, we can clearly see that the built-in python package is faster than the my custom defined function. The expected asymptotic behaviour of the operation $\\textbf{x}^T \\textbf{Mx}$ should be $\\mathcal{O}(n^2+n)$, we note that the $n^2$ term dominates such the expected asymptotic behaviour becomes  $\\approx \\mathcal{O}(n^2)$ of which we can see since we kind of have a distribution that somewhat resembles a parabola again, for $n>0$. "
   ]
  },
  {
   "cell_type": "code",
   "execution_count": 115,
   "id": "528eea18",
   "metadata": {},
   "outputs": [
    {
     "data": {
      "image/png": "[encoded data removed]",
      "text/plain": [
       "<Figure size 640x480 with 1 Axes>"
      ]
     },
     "metadata": {},
     "output_type": "display_data"
    }
   ],
   "source": [
    "plt.scatter(n_, ex_time4, label = \"Custom Implementation\", marker = 'o')\n",
    "plt.scatter(n_, ex_time4_pkg, label = \"Package implementation\", marker = 'o')\n",
    "plt.legend(loc = 'best')\n",
    "plt.xlabel('Dimensions (n)')\n",
    "plt.ylabel('Execution Times (s)')\n",
    "plt.title(\" Execution Times as a Function of n for Matrix Multiplication\")\n",
    "plt.show()"
   ]
  },
  {
   "attachments": {},
   "cell_type": "markdown",
   "id": "f947e9ce",
   "metadata": {},
   "source": [
    "In the above, we can clearly see that the built-in python package is much faster than the my custom defined function. The expected asymptotic behaviour of the operation $\\textbf{MM}$ should be $\\mathcal{O}(n^3)$, of which we can see since we kind of have a distribution that somewhat resembles a cubic graph for $n>0$."
   ]
  },
  {
   "cell_type": "code",
   "execution_count": 116,
   "id": "f3f196b0",
   "metadata": {},
   "outputs": [
    {
     "name": "stdout",
     "output_type": "stream",
     "text": [
      "                                                 xTx  \\\n",
      "0  [323480651.86143416, 520545271.60207206, 39375...   \n",
      "1  [2587845214.8914733, 4164362172.8165765, 31500...   \n",
      "2  [8733977600.258722, 14054722333.255945, 106314...   \n",
      "3  [20702761719.131786, 33314897382.53261, 252005...   \n",
      "4  [40435081482.679276, 65068158950.25901, 492198...   \n",
      "5  [69871820802.06978, 112437778666.04756, 850519...   \n",
      "6  [110953863588.47192, 178547028159.5107, 135059...   \n",
      "7  [165622093753.0543, 266519179060.2609, 2016045...   \n",
      "8  [235817395206.98553, 379477502997.9105, 287050...   \n",
      "9  [323480651861.4342, 520545271602.0721, 3937589...   \n",
      "\n",
      "                                                  Mx  \\\n",
      "0  [12084856.843235789, 8962641.469767837, 347457...   \n",
      "1  [96678854.74588631, 71701131.7581427, 27796562...   \n",
      "2  [326291134.7673663, 241991319.68373162, 938133...   \n",
      "3  [773430837.9670905, 573609054.0651416, 2223724...   \n",
      "4  [1510607105.4044735, 1120330183.7209797, 43432...   \n",
      "5  [2610329078.1389303, 1935930557.469853, 750507...   \n",
      "6  [4145105897.2298756, 3074186024.130368, 119177...   \n",
      "7  [6187446703.736724, 4588872432.521132, 1778979...   \n",
      "8  [8809860638.71889, 6533765631.460753, 25329617...   \n",
      "9  [12084856843.235788, 8962641469.767838, 347457...   \n",
      "\n",
      "                                                xTMx  \\\n",
      "0  [13218268.306919616, 859876.2347880902, 402688...   \n",
      "1  [105746146.45535693, 6879009.878304722, 322150...   \n",
      "2  [356893244.2868296, 23216658.339278437, 108725...   \n",
      "3  [845969171.6428554, 55032079.026437774, 257720...   \n",
      "4  [1652283538.3649518, 107484529.34851128, 50336...   \n",
      "5  [2855145954.2946367, 185733266.7142275, 869807...   \n",
      "6  [4533866029.273428, 294937548.53231496, 138122...   \n",
      "7  [6767753373.142843, 440256632.2115022, 2061765...   \n",
      "8  [9636117595.7444, 626849775.1605178, 293560026...   \n",
      "9  [13218268306.919615, 859876234.7880902, 402688...   \n",
      "\n",
      "                                                  MM  \n",
      "0  [2144278.588975603, 206610.5537368854, 72570.3...  \n",
      "1  [17154228.711804826, 1652884.4298950832, 58056...  \n",
      "2  [57895521.902341284, 5578484.9508959055, 19593...  \n",
      "3  [137233829.6944386, 13223075.439160665, 464450...  \n",
      "4  [268034823.6219504, 25826319.217110675, 907129...  \n",
      "5  [463164175.2187303, 44627879.607167244, 156751...  \n",
      "6  [735487556.0186318, 70867419.93175168, 2489162...  \n",
      "7  [1097870637.5555089, 105784603.51328532, 37156...  \n",
      "8  [1563179091.3632147, 150619093.67418945, 52903...  \n",
      "9  [2144278588.975603, 206610553.7368854, 7257034...  \n"
     ]
    }
   ],
   "source": [
    "flops_xtx = []\n",
    "flops_mx = []\n",
    "flops_xtmx = []\n",
    "flops_mm = []\n",
    "for t in range(len(n_)):\n",
    "    flops_xtx.append((2*n_[t]**3)/ex_time1)\n",
    "    flops_mx.append((2*n_[t]**3)/ex_time2)\n",
    "    flops_xtmx.append((2*n_[t]**3)/ex_time3)\n",
    "    flops_mm.append((2*n_[t]**3)/ex_time4)\n",
    "\n",
    "\n",
    "data3 = {\n",
    "    'xTx': flops_xtx,\n",
    "    'Mx': flops_mx,\n",
    "    'xTMx': flops_xtmx,\n",
    "    'MM': flops_mm\n",
    "}\n",
    "df3 = pd.DataFrame(data3)\n",
    "print(df3)"
   ]
  },
  {
   "attachments": {},
   "cell_type": "markdown",
   "id": "9e8d8843",
   "metadata": {},
   "source": [
    "To compute the FLOPS, We simply isolate one of the custom defined funtions and determine the number floating point operations then multiplu that number by the number of iterations for that specific input. We then devide the result but the execution time to get the number of Floating Point Operations of the system. In our case, we chose the $\\textbf{dot product}$ operator which has to floating point operations and nested within 3 loops which means we have repeatitions of $\\mathcal{O}(n^3)$. We choose our vector to have $n=20$."
   ]
  },
  {
   "cell_type": "code",
   "execution_count": 117,
   "id": "f7ac2606",
   "metadata": {},
   "outputs": [
    {
     "name": "stdout",
     "output_type": "stream",
     "text": [
      "323480651.86143416\n"
     ]
    }
   ],
   "source": [
    "FLOPS = 2*(n_[0]**3)/ex_time1[0]\n",
    "print(FLOPS)"
   ]
  },
  {
   "attachments": {},
   "cell_type": "markdown",
   "id": "f3526cf5",
   "metadata": {},
   "source": [
    "Here can see that our estimated number of floating point operations is $\\approx 3 \\times 10^8$."
   ]
  }
 ],
 "metadata": {
  "kernelspec": {
   "display_name": "Python 3",
   "language": "python",
   "name": "python3"
  },
  "language_info": {
   "codemirror_mode": {
    "name": "ipython",
    "version": 3
   },
   "file_extension": ".py",
   "mimetype": "text/x-python",
   "name": "python",
   "nbconvert_exporter": "python",
   "pygments_lexer": "ipython3",
   "version": "3.11.2"
  },
  "vscode": {
   "interpreter": {
    "hash": "aee8b7b246df8f9039afb4144a1f6fd8d2ca17a180786b69acc140d282b71a49"
   }
  }
 },
 "nbformat": 4,
 "nbformat_minor": 5
}
